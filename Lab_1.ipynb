{
  "nbformat": 4,
  "nbformat_minor": 0,
  "metadata": {
    "colab": {
      "provenance": [],
      "authorship_tag": "ABX9TyPeOhdbX6TGaoXNldl5HM1+",
      "include_colab_link": true
    },
    "kernelspec": {
      "name": "python3",
      "display_name": "Python 3"
    },
    "language_info": {
      "name": "python"
    }
  },
  "cells": [
    {
      "cell_type": "markdown",
      "metadata": {
        "id": "view-in-github",
        "colab_type": "text"
      },
      "source": [
        "<a href=\"https://colab.research.google.com/github/erenakgunduz/Probability_Statistics/blob/main/Lab_1.ipynb\" target=\"_parent\"><img src=\"https://colab.research.google.com/assets/colab-badge.svg\" alt=\"Open In Colab\"/></a>",
        "# Stats Lab #1\n",
        "### Eren Akgunduz"
      ]
    },
    {
      "cell_type": "markdown",
      "source": [
        "## Variables"
      ],
      "metadata": {
        "id": "xna5iSbu3VBV"
      }
    },
    {
      "cell_type": "code",
      "execution_count": 1,
      "metadata": {
        "id": "nn-IIKSJ1u8X"
      },
      "outputs": [],
      "source": [
        "shirts_cost = 15 # Setting variables"
      ]
    },
    {
      "cell_type": "code",
      "source": [
        "shirts_sold = 6"
      ],
      "metadata": {
        "id": "w6AQhnSk2UGm"
      },
      "execution_count": 2,
      "outputs": []
    },
    {
      "cell_type": "code",
      "source": [
        "pants_cost = 20"
      ],
      "metadata": {
        "id": "mIgw_YtS2Vsd"
      },
      "execution_count": 3,
      "outputs": []
    },
    {
      "cell_type": "code",
      "source": [
        "pants_sold = 8"
      ],
      "metadata": {
        "id": "oaV8Tt7t2Y2b"
      },
      "execution_count": 4,
      "outputs": []
    },
    {
      "cell_type": "code",
      "source": [
        "shoes_cost = 50"
      ],
      "metadata": {
        "id": "aZvMSKmf2a2V"
      },
      "execution_count": 5,
      "outputs": []
    },
    {
      "cell_type": "code",
      "source": [
        "shoes_sold = 10"
      ],
      "metadata": {
        "id": "oZ_eKU0B2c_V"
      },
      "execution_count": 6,
      "outputs": []
    },
    {
      "cell_type": "code",
      "source": [
        "revenue_shirts = (shirts_cost * shirts_sold) # Multiplication to find total earnings"
      ],
      "metadata": {
        "id": "fxLTGPpE2fdu"
      },
      "execution_count": 7,
      "outputs": []
    },
    {
      "cell_type": "code",
      "source": [
        "revenue_pants = (pants_cost * pants_sold)"
      ],
      "metadata": {
        "id": "o6gVEkAl2pi1"
      },
      "execution_count": 8,
      "outputs": []
    },
    {
      "cell_type": "code",
      "source": [
        "revenue_shoes = (shoes_cost * shoes_sold)"
      ],
      "metadata": {
        "id": "r-USaYBR2s2E"
      },
      "execution_count": 9,
      "outputs": []
    },
    {
      "cell_type": "code",
      "source": [
        "total = (revenue_shirts + revenue_pants + revenue_shoes) # The sum of previously assigned individual totals"
      ],
      "metadata": {
        "id": "w9HWv6i72wZl"
      },
      "execution_count": 10,
      "outputs": []
    },
    {
      "cell_type": "code",
      "source": [
        "total"
      ],
      "metadata": {
        "colab": {
          "base_uri": "https://localhost:8080/"
        },
        "id": "_bQFkeFC26Mt",
        "outputId": "9a394e91-82c7-421c-b66d-de342eac4ce3"
      },
      "execution_count": 11,
      "outputs": [
        {
          "output_type": "execute_result",
          "data": {
            "text/plain": [
              "750"
            ]
          },
          "metadata": {},
          "execution_count": 11
        }
      ]
    },
    {
      "cell_type": "markdown",
      "source": [
        "## Vectors"
      ],
      "metadata": {
        "id": "sQX6URjQ3OBE"
      }
    },
    {
      "cell_type": "code",
      "source": [
        "import numpy as np # Now numpy will be usable but referring to it in the namespace with \"np\""
      ],
      "metadata": {
        "id": "rPmptY2u3SjM"
      },
      "execution_count": 12,
      "outputs": []
    },
    {
      "cell_type": "code",
      "source": [
        "import matplotlib.pyplot as plt # Same with matplotlib's pyplot module"
      ],
      "metadata": {
        "id": "o2nPeWMY3deM"
      },
      "execution_count": 13,
      "outputs": []
    },
    {
      "cell_type": "code",
      "source": [
        "np.arange(1, 11) # Generates numpy array of the specified range"
      ],
      "metadata": {
        "colab": {
          "base_uri": "https://localhost:8080/"
        },
        "id": "iDMs8pKX3pV8",
        "outputId": "4da91407-5634-4fa6-fb10-b5154ea62d53"
      },
      "execution_count": 14,
      "outputs": [
        {
          "output_type": "execute_result",
          "data": {
            "text/plain": [
              "array([ 1,  2,  3,  4,  5,  6,  7,  8,  9, 10])"
            ]
          },
          "metadata": {},
          "execution_count": 14
        }
      ]
    },
    {
      "cell_type": "code",
      "source": [
        "x = np.arange(10) # Just a range up to 10 (starting with 0)"
      ],
      "metadata": {
        "id": "ATbQRWiQ4hL9"
      },
      "execution_count": 15,
      "outputs": []
    },
    {
      "cell_type": "code",
      "source": [
        "x + 2 # Array operations"
      ],
      "metadata": {
        "colab": {
          "base_uri": "https://localhost:8080/"
        },
        "id": "SWRfCHVn4lPc",
        "outputId": "f58e091f-7f64-4b72-e313-372c2d757f87"
      },
      "execution_count": 16,
      "outputs": [
        {
          "output_type": "execute_result",
          "data": {
            "text/plain": [
              "array([ 2,  3,  4,  5,  6,  7,  8,  9, 10, 11])"
            ]
          },
          "metadata": {},
          "execution_count": 16
        }
      ]
    },
    {
      "cell_type": "code",
      "source": [
        "x * 2"
      ],
      "metadata": {
        "colab": {
          "base_uri": "https://localhost:8080/"
        },
        "id": "poe8-48p4oG-",
        "outputId": "a72b720e-2088-4529-a420-5486180f8d70"
      },
      "execution_count": 17,
      "outputs": [
        {
          "output_type": "execute_result",
          "data": {
            "text/plain": [
              "array([ 0,  2,  4,  6,  8, 10, 12, 14, 16, 18])"
            ]
          },
          "metadata": {},
          "execution_count": 17
        }
      ]
    },
    {
      "cell_type": "code",
      "source": [
        "x**2"
      ],
      "metadata": {
        "colab": {
          "base_uri": "https://localhost:8080/"
        },
        "id": "PZtf6Oxt41Ke",
        "outputId": "77a355d0-88c8-4a82-df58-1ca604483506"
      },
      "execution_count": 18,
      "outputs": [
        {
          "output_type": "execute_result",
          "data": {
            "text/plain": [
              "array([ 0,  1,  4,  9, 16, 25, 36, 49, 64, 81])"
            ]
          },
          "metadata": {},
          "execution_count": 18
        }
      ]
    },
    {
      "cell_type": "code",
      "source": [
        "y = 3 * x + 5"
      ],
      "metadata": {
        "id": "NO18kf-t42Nu"
      },
      "execution_count": 19,
      "outputs": []
    },
    {
      "cell_type": "code",
      "source": [
        "x"
      ],
      "metadata": {
        "colab": {
          "base_uri": "https://localhost:8080/"
        },
        "id": "ndOk_ebQ4818",
        "outputId": "bae05e23-1964-4964-e079-9e193c7f9370"
      },
      "execution_count": 20,
      "outputs": [
        {
          "output_type": "execute_result",
          "data": {
            "text/plain": [
              "array([0, 1, 2, 3, 4, 5, 6, 7, 8, 9])"
            ]
          },
          "metadata": {},
          "execution_count": 20
        }
      ]
    },
    {
      "cell_type": "code",
      "source": [
        "y"
      ],
      "metadata": {
        "colab": {
          "base_uri": "https://localhost:8080/"
        },
        "id": "3BzygvmF4-Uc",
        "outputId": "f586b0d6-f9d5-4241-dcf6-3e8ee1245fd7"
      },
      "execution_count": 21,
      "outputs": [
        {
          "output_type": "execute_result",
          "data": {
            "text/plain": [
              "array([ 5,  8, 11, 14, 17, 20, 23, 26, 29, 32])"
            ]
          },
          "metadata": {},
          "execution_count": 21
        }
      ]
    },
    {
      "cell_type": "code",
      "source": [
        "plt.plot(x, y) # Plotting y as a linear function of x"
      ],
      "metadata": {
        "colab": {
          "base_uri": "https://localhost:8080/",
          "height": 283
        },
        "id": "HTeETHVe4-o7",
        "outputId": "6e883d5a-72bc-4b04-b45b-de70d0e11f04"
      },
      "execution_count": 22,
      "outputs": [
        {
          "output_type": "execute_result",
          "data": {
            "text/plain": [
              "[<matplotlib.lines.Line2D at 0x7f8dc50e0090>]"
            ]
          },
          "metadata": {},
          "execution_count": 22
        },
        {
          "output_type": "display_data",
          "data": {
            "text/plain": [
              "<Figure size 432x288 with 1 Axes>"
            ],
            "image/png": "[encoded data removed]"
          },
          "metadata": {
            "needs_background": "light"
          }
        }
      ]
    },
    {
      "cell_type": "code",
      "source": [
        "plt.plot(x, y, '.') # Dotted points"
      ],
      "metadata": {
        "colab": {
          "base_uri": "https://localhost:8080/",
          "height": 283
        },
        "id": "H4yVMbJw5AeM",
        "outputId": "3a48f69c-2a17-4606-9e32-c560ae08a12b"
      },
      "execution_count": 23,
      "outputs": [
        {
          "output_type": "execute_result",
          "data": {
            "text/plain": [
              "[<matplotlib.lines.Line2D at 0x7f8dc4c30f90>]"
            ]
          },
          "metadata": {},
          "execution_count": 23
        },
        {
          "output_type": "display_data",
          "data": {
            "text/plain": [
              "<Figure size 432x288 with 1 Axes>"
            ],
            "image/png": "[encoded data removed]"
          },
          "metadata": {
            "needs_background": "light"
          }
        }
      ]
    },
    {
      "cell_type": "code",
      "source": [
        "plt.plot(x, y, 'r.') # Using red dots"
      ],
      "metadata": {
        "colab": {
          "base_uri": "https://localhost:8080/",
          "height": 283
        },
        "outputId": "24b24104-d180-49e3-f208-3280232ed2b2",
        "id": "CrKx9bej6RTs"
      },
      "execution_count": 24,
      "outputs": [
        {
          "output_type": "execute_result",
          "data": {
            "text/plain": [
              "[<matplotlib.lines.Line2D at 0x7f8dc4baa790>]"
            ]
          },
          "metadata": {},
          "execution_count": 24
        },
        {
          "output_type": "display_data",
          "data": {
            "text/plain": [
              "<Figure size 432x288 with 1 Axes>"
            ],
            "image/png": "[encoded data removed]"
          },
          "metadata": {
            "needs_background": "light"
          }
        }
      ]
    },
    {
      "cell_type": "code",
      "source": [
        "x.shape # Get the vector/matrix/tensor shape"
      ],
      "metadata": {
        "colab": {
          "base_uri": "https://localhost:8080/"
        },
        "id": "53ABsrjL5dWc",
        "outputId": "4edb2b4a-c3f4-485c-eeaa-423dd0c3dc03"
      },
      "execution_count": 25,
      "outputs": [
        {
          "output_type": "execute_result",
          "data": {
            "text/plain": [
              "(10,)"
            ]
          },
          "metadata": {},
          "execution_count": 25
        }
      ]
    },
    {
      "cell_type": "code",
      "source": [
        "y.shape"
      ],
      "metadata": {
        "colab": {
          "base_uri": "https://localhost:8080/"
        },
        "id": "t8hCsbY96SLs",
        "outputId": "7f71aab2-fce7-4fa7-979e-889d1e599dd8"
      },
      "execution_count": 26,
      "outputs": [
        {
          "output_type": "execute_result",
          "data": {
            "text/plain": [
              "(10,)"
            ]
          },
          "metadata": {},
          "execution_count": 26
        }
      ]
    },
    {
      "cell_type": "code",
      "source": [
        "plt.plot(x, y, marker='*', linestyle='dashdot', markerfacecolor='#6A0FAE') # Saucing opportunities with plot arguments"
      ],
      "metadata": {
        "colab": {
          "base_uri": "https://localhost:8080/",
          "height": 283
        },
        "outputId": "9c0bc518-9369-4b82-89cf-83dad86580d9",
        "id": "7UVkLKM-8ARL"
      },
      "execution_count": 27,
      "outputs": [
        {
          "output_type": "execute_result",
          "data": {
            "text/plain": [
              "[<matplotlib.lines.Line2D at 0x7f8dc4b1a590>]"
            ]
          },
          "metadata": {},
          "execution_count": 27
        },
        {
          "output_type": "display_data",
          "data": {
            "text/plain": [
              "<Figure size 432x288 with 1 Axes>"
            ],
            "image/png": "[encoded data removed]"
          },
          "metadata": {
            "needs_background": "light"
          }
        }
      ]
    },
    {
      "cell_type": "code",
      "source": [
        "lin = np.linspace(0, 5, 10) # Min value, max value, total of 10 evenly spaced numbers including min and max "
      ],
      "metadata": {
        "id": "cyA8-Mak9nX8"
      },
      "execution_count": 28,
      "outputs": []
    },
    {
      "cell_type": "code",
      "source": [
        "lin # As you can see"
      ],
      "metadata": {
        "colab": {
          "base_uri": "https://localhost:8080/"
        },
        "id": "hkwJeo_59t0N",
        "outputId": "b0ce4b02-ebcc-4b3f-ee07-ed449964cd1f"
      },
      "execution_count": 29,
      "outputs": [
        {
          "output_type": "execute_result",
          "data": {
            "text/plain": [
              "array([0.        , 0.55555556, 1.11111111, 1.66666667, 2.22222222,\n",
              "       2.77777778, 3.33333333, 3.88888889, 4.44444444, 5.        ])"
            ]
          },
          "metadata": {},
          "execution_count": 29
        }
      ]
    },
    {
      "cell_type": "code",
      "source": [
        "x = np.linspace(0, 10, 100) # Total of 100 evenly spaced x-values between 0 and 10"
      ],
      "metadata": {
        "id": "ehxx84yh9vmN"
      },
      "execution_count": 30,
      "outputs": []
    },
    {
      "cell_type": "code",
      "source": [
        "y = x**2 # The function of x"
      ],
      "metadata": {
        "id": "8tsZLSy892NN"
      },
      "execution_count": 31,
      "outputs": []
    },
    {
      "cell_type": "code",
      "source": [
        "# Creating the graph\n",
        "plt.plot(x, y, marker='o', linestyle='None', markerfacecolor='#6A0FAE');\n",
        "plt.title(\"The first graph\");\n",
        "plt.xlabel(\"X\");\n",
        "plt.ylabel(\"Y\", rotation=0);"
      ],
      "metadata": {
        "colab": {
          "base_uri": "https://localhost:8080/",
          "height": 295
        },
        "outputId": "bf6be312-8d34-4571-f55a-a5024e83817e",
        "id": "ftDSwG75997g"
      },
      "execution_count": 32,
      "outputs": [
        {
          "output_type": "display_data",
          "data": {
            "text/plain": [
              "<Figure size 432x288 with 1 Axes>"
            ],
            "image/png": "[encoded data removed]"
          },
          "metadata": {
            "needs_background": "light"
          }
        }
      ]
    },
    {
      "cell_type": "code",
      "source": [
        "# Add the legend\n",
        "plt.plot(x, y, marker='o', linestyle='None', markerfacecolor='#6A0FAE', label=\"Graph of x squared\");\n",
        "plt.title(\"The first graph\");\n",
        "plt.xlabel(\"X\");\n",
        "plt.ylabel(\"Y\", rotation=0);\n",
        "plt.legend();"
      ],
      "metadata": {
        "colab": {
          "base_uri": "https://localhost:8080/",
          "height": 295
        },
        "outputId": "83ec3e63-3f11-43ce-da3c-31b7749d0464",
        "id": "zdTqLg-qBMR8"
      },
      "execution_count": 33,
      "outputs": [
        {
          "output_type": "display_data",
          "data": {
            "text/plain": [
              "<Figure size 432x288 with 1 Axes>"
            ],
            "image/png": "[encoded data removed]"
          },
          "metadata": {
            "needs_background": "light"
          }
        }
      ]
    },
    {
      "cell_type": "code",
      "source": [
        "# Multiple functions on one graph\n",
        "x = np.linspace(0, 2, 100)\n",
        "\n",
        "plt.plot(x, x,    'r--', label=\"linear\");\n",
        "plt.plot(x, x**2, 'bs' , label=\"squared\");\n",
        "plt.plot(x, x**3, 'g^' , label=\"cubed\");\n",
        "plt.legend();"
      ],
      "metadata": {
        "colab": {
          "base_uri": "https://localhost:8080/",
          "height": 265
        },
        "id": "UbvKzQDRCDv6",
        "outputId": "c44f0623-608c-4629-aea0-b6a58e765ea0"
      },
      "execution_count": 34,
      "outputs": [
        {
          "output_type": "display_data",
          "data": {
            "text/plain": [
              "<Figure size 432x288 with 1 Axes>"
            ],
            "image/png": "[encoded data removed]"
          },
          "metadata": {
            "needs_background": "light"
          }
        }
      ]
    },
    {
      "cell_type": "markdown",
      "source": [
        "## Lists"
      ],
      "metadata": {
        "id": "47euIbn2E-0s"
      }
    },
    {
      "cell_type": "code",
      "source": [
        "names = ['eren', 'iskender'] # This is a list\n",
        "names"
      ],
      "metadata": {
        "colab": {
          "base_uri": "https://localhost:8080/"
        },
        "id": "NDdqVg7zFAMa",
        "outputId": "6ce43f2b-5021-4170-d90d-be5c211bb010"
      },
      "execution_count": 35,
      "outputs": [
        {
          "output_type": "execute_result",
          "data": {
            "text/plain": [
              "['eren', 'iskender']"
            ]
          },
          "metadata": {},
          "execution_count": 35
        }
      ]
    },
    {
      "cell_type": "code",
      "source": [
        "names = tuple() # This is a tuple, immutable just like a string\n",
        "# names.append('zebra') -- not possible\n",
        "other = ('hamster', 'zebra')\n",
        "names += other # but this is\n",
        "names"
      ],
      "metadata": {
        "colab": {
          "base_uri": "https://localhost:8080/"
        },
        "id": "opxBshptnhOO",
        "outputId": "1bc2c4e1-9e9a-4e04-a439-44c92cf0b6c4"
      },
      "execution_count": 36,
      "outputs": [
        {
          "output_type": "execute_result",
          "data": {
            "text/plain": [
              "('hamster', 'zebra')"
            ]
          },
          "metadata": {},
          "execution_count": 36
        }
      ]
    },
    {
      "cell_type": "code",
      "source": [
        "names = ('cat', 'dog', 'bird')\n",
        "names"
      ],
      "metadata": {
        "id": "AZVOs-kXIJgK",
        "colab": {
          "base_uri": "https://localhost:8080/"
        },
        "outputId": "ad133daf-3667-4e71-bda3-a131c4244816"
      },
      "execution_count": 37,
      "outputs": [
        {
          "output_type": "execute_result",
          "data": {
            "text/plain": [
              "('cat', 'dog', 'bird')"
            ]
          },
          "metadata": {},
          "execution_count": 37
        }
      ]
    },
    {
      "cell_type": "code",
      "source": [
        "tuple(print(name) for name in names); # Comprehension to iterate through tuple values"
      ],
      "metadata": {
        "colab": {
          "base_uri": "https://localhost:8080/"
        },
        "id": "_usAtE5JFGoK",
        "outputId": "8244e8e3-7751-4ab4-c8d6-0630646b3214"
      },
      "execution_count": 38,
      "outputs": [
        {
          "output_type": "stream",
          "name": "stdout",
          "text": [
            "cat\n",
            "dog\n",
            "bird\n"
          ]
        }
      ]
    },
    {
      "cell_type": "code",
      "source": [
        "values = np.array([15, 18, 6])\n",
        "values.shape"
      ],
      "metadata": {
        "colab": {
          "base_uri": "https://localhost:8080/"
        },
        "id": "SIaw4HCXFbQ6",
        "outputId": "5bdc5d38-391c-459d-be47-ad28941e4d4b"
      },
      "execution_count": 39,
      "outputs": [
        {
          "output_type": "execute_result",
          "data": {
            "text/plain": [
              "(3,)"
            ]
          },
          "metadata": {},
          "execution_count": 39
        }
      ]
    },
    {
      "cell_type": "code",
      "source": [
        "plt.figure(1, figsize=(10, 8)); # New figure, arguments are the figure ID and the size in terms of width and height in inches (weird)\n",
        "\n",
        "plt.subplot(1,3,1); # For subplots you define rows and columns and then the index position for the particular subplot but starting at 1 (not 0)\n",
        "plt.bar(names, values); # This will be a bar graph\n",
        "\n",
        "plt.subplot(132); # According to docs, this is the same as plt.subplot(1, 3, 2)\n",
        "plt.scatter(names, values); # Scatter plot\n",
        "\n",
        "plt.subplot(1,3,3);\n",
        "plt.plot(names, values); # Standard/line plot/graph"
      ],
      "metadata": {
        "colab": {
          "base_uri": "https://localhost:8080/",
          "height": 483
        },
        "id": "tpYAYovFFh4i",
        "outputId": "4d18691f-3181-447b-e3ac-feb96dd3339d"
      },
      "execution_count": 40,
      "outputs": [
        {
          "output_type": "display_data",
          "data": {
            "text/plain": [
              "<Figure size 720x576 with 3 Axes>"
            ],
            "image/png": "[encoded data removed]"
          },
          "metadata": {
            "needs_background": "light"
          }
        }
      ]
    },
    {
      "cell_type": "code",
      "source": [
        "plt.figure(1, figsize=(4, 4)); # Smaller size\n",
        "\n",
        "plt.subplot(2,2,1); # We will have two rows and two columns this time\n",
        "plt.bar(names, values);\n",
        "\n",
        "plt.subplot(2,2,2);\n",
        "plt.scatter(names, values);\n",
        "\n",
        "plt.subplot(2,2,3);\n",
        "plt.plot(names, values);\n",
        "\n",
        "plt.subplot(2,2,4);\n",
        "plt.plot(names, values);"
      ],
      "metadata": {
        "colab": {
          "base_uri": "https://localhost:8080/",
          "height": 265
        },
        "outputId": "2d36be9c-d45a-4f24-b875-338b60e5f43a",
        "id": "lEEH2V07G5WS"
      },
      "execution_count": 41,
      "outputs": [
        {
          "output_type": "display_data",
          "data": {
            "text/plain": [
              "<Figure size 288x288 with 4 Axes>"
            ],
            "image/png": "[encoded data removed]"
          },
          "metadata": {
            "needs_background": "light"
          }
        }
      ]
    },
    {
      "cell_type": "markdown",
      "source": [
        "## Math Typesetting"
      ],
      "metadata": {
        "id": "1DGQEcrWZDDH"
      }
    },
    {
      "cell_type": "markdown",
      "source": [
        "<!-- How to add an image and adjust its size -->\n",
        "<img src=\"https://camo.githubusercontent.com/2221547da9b18d64ee60ea2dcf1edbb283c10c15a9fe9e6e6d70576956040c0d/68747470733a2f2f6173736574732e72626c2e6d732f32353538343439392f6f726967696e2e6a7067\" width=500px />"
      ],
      "metadata": {
        "id": "VGEZX7jyZJhK"
      }
    },
    {
      "cell_type": "markdown",
      "source": [
        "<!-- How to add latex inline -->\n",
        "$y = mx + b$"
      ],
      "metadata": {
        "id": "jtxI0G01bWYV"
      }
    },
    {
      "cell_type": "markdown",
      "source": [
        "<!-- How to create a fraction -->\n",
        "$\\frac{a}{b}$"
      ],
      "metadata": {
        "id": "SCBYbOfvbcC_"
      }
    },
    {
      "cell_type": "markdown",
      "source": [
        "<!-- Fraction with superscript and subscript -->\n",
        "$\\frac{a^b}{a_b}$"
      ],
      "metadata": {
        "id": "gPHaoZuCbj1Q"
      }
    },
    {
      "cell_type": "markdown",
      "source": [
        "$f(x) = \\frac{1}{\\sigma\\sqrt{2\\pi}}e^{-\\frac{1}{2}}(\\frac{x-\\mu}{\\sigma})^2$ <!-- Not sure if I did this right hehe -->"
      ],
      "metadata": {
        "id": "TAr3qDbqcQP-"
      }
    }
  ]
}
