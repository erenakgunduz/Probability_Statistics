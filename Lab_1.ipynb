{
  "nbformat": 4,
  "nbformat_minor": 0,
  "metadata": {
    "colab": {
      "provenance": [],
      "authorship_tag": "ABX9TyPeOhdbX6TGaoXNldl5HM1+",
      "include_colab_link": true
    },
    "kernelspec": {
      "name": "python3",
      "display_name": "Python 3"
    },
    "language_info": {
      "name": "python"
    }
  },
  "cells": [
    {
      "cell_type": "markdown",
      "metadata": {
        "id": "view-in-github",
        "colab_type": "text"
      },
      "source": [
        "<a href=\"https://colab.research.google.com/github/erenakgunduz/Probability_Statistics/blob/main/Lab_1.ipynb\" target=\"_parent\"><img src=\"https://colab.research.google.com/assets/colab-badge.svg\" alt=\"Open In Colab\"/></a>"
      ]
    },
    {
      "cell_type": "markdown",
      "source": [
        "## Variables"
      ],
      "metadata": {
        "id": "xna5iSbu3VBV"
      }
    },
    {
      "cell_type": "code",
      "execution_count": null,
      "metadata": {
        "id": "nn-IIKSJ1u8X"
      },
      "outputs": [],
      "source": [
        "shirts_cost = 15 # Setting variables"
      ]
    },
    {
      "cell_type": "code",
      "source": [
        "shirts_sold = 6"
      ],
      "metadata": {
        "id": "w6AQhnSk2UGm"
      },
      "execution_count": null,
      "outputs": []
    },
    {
      "cell_type": "code",
      "source": [
        "pants_cost = 20"
      ],
      "metadata": {
        "id": "mIgw_YtS2Vsd"
      },
      "execution_count": null,
      "outputs": []
    },
    {
      "cell_type": "code",
      "source": [
        "pants_sold = 8"
      ],
      "metadata": {
        "id": "oaV8Tt7t2Y2b"
      },
      "execution_count": null,
      "outputs": []
    },
    {
      "cell_type": "code",
      "source": [
        "shoes_cost = 50"
      ],
      "metadata": {
        "id": "aZvMSKmf2a2V"
      },
      "execution_count": null,
      "outputs": []
    },
    {
      "cell_type": "code",
      "source": [
        "shoes_sold = 10"
      ],
      "metadata": {
        "id": "oZ_eKU0B2c_V"
      },
      "execution_count": null,
      "outputs": []
    },
    {
      "cell_type": "code",
      "source": [
        "revenue_shirts = (shirts_cost * shirts_sold) # Multiplication to find total earnings"
      ],
      "metadata": {
        "id": "fxLTGPpE2fdu"
      },
      "execution_count": null,
      "outputs": []
    },
    {
      "cell_type": "code",
      "source": [
        "revenue_pants = (pants_cost * pants_sold)"
      ],
      "metadata": {
        "id": "o6gVEkAl2pi1"
      },
      "execution_count": null,
      "outputs": []
    },
    {
      "cell_type": "code",
      "source": [
        "revenue_shoes = (shoes_cost * shoes_sold)"
      ],
      "metadata": {
        "id": "r-USaYBR2s2E"
      },
      "execution_count": null,
      "outputs": []
    },
    {
      "cell_type": "code",
      "source": [
        "total = (revenue_shirts + revenue_pants + revenue_shoes) # The sum of previously assigned individual totals"
      ],
      "metadata": {
        "id": "w9HWv6i72wZl"
      },
      "execution_count": null,
      "outputs": []
    },
    {
      "cell_type": "code",
      "source": [
        "total"
      ],
      "metadata": {
        "colab": {
          "base_uri": "https://localhost:8080/"
        },
        "id": "_bQFkeFC26Mt",
        "outputId": "26aa0c45-bfe7-4ccc-f4a5-fba848c4a108"
      },
      "execution_count": null,
      "outputs": [
        {
          "output_type": "execute_result",
          "data": {
            "text/plain": [
              "750"
            ]
          },
          "metadata": {},
          "execution_count": 129
        }
      ]
    },
    {
      "cell_type": "markdown",
      "source": [
        "## Vectors"
      ],
      "metadata": {
        "id": "sQX6URjQ3OBE"
      }
    },
    {
      "cell_type": "code",
      "source": [
        "import numpy as np # Now numpy will be usable but referring to it in the namespace with \"np\""
      ],
      "metadata": {
        "id": "rPmptY2u3SjM"
      },
      "execution_count": null,
      "outputs": []
    },
    {
      "cell_type": "code",
      "source": [
        "import matplotlib.pyplot as plt # Same with matplotlib's pyplot module"
      ],
      "metadata": {
        "id": "o2nPeWMY3deM"
      },
      "execution_count": null,
      "outputs": []
    },
    {
      "cell_type": "code",
      "source": [
        "np.arange(1, 11) # Generates numpy array of the specified range"
      ],
      "metadata": {
        "colab": {
          "base_uri": "https://localhost:8080/"
        },
        "id": "iDMs8pKX3pV8",
        "outputId": "a4548f0f-9e07-4624-e388-a191da151238"
      },
      "execution_count": null,
      "outputs": [
        {
          "output_type": "execute_result",
          "data": {
            "text/plain": [
              "array([ 1,  2,  3,  4,  5,  6,  7,  8,  9, 10])"
            ]
          },
          "metadata": {},
          "execution_count": 132
        }
      ]
    },
    {
      "cell_type": "code",
      "source": [
        "x = np.arange(10) # Just a range up to 10 (starting with 0)"
      ],
      "metadata": {
        "id": "ATbQRWiQ4hL9"
      },
      "execution_count": null,
      "outputs": []
    },
    {
      "cell_type": "code",
      "source": [
        "x + 2 # Array operations"
      ],
      "metadata": {
        "colab": {
          "base_uri": "https://localhost:8080/"
        },
        "id": "SWRfCHVn4lPc",
        "outputId": "673a411a-a756-4e8d-a714-ad98b97b28ad"
      },
      "execution_count": null,
      "outputs": [
        {
          "output_type": "execute_result",
          "data": {
            "text/plain": [
              "array([ 2,  3,  4,  5,  6,  7,  8,  9, 10, 11])"
            ]
          },
          "metadata": {},
          "execution_count": 134
        }
      ]
    },
    {
      "cell_type": "code",
      "source": [
        "x * 2"
      ],
      "metadata": {
        "colab": {
          "base_uri": "https://localhost:8080/"
        },
        "id": "poe8-48p4oG-",
        "outputId": "8d4787ce-96b2-41ec-e959-6951aa1a8e5d"
      },
      "execution_count": null,
      "outputs": [
        {
          "output_type": "execute_result",
          "data": {
            "text/plain": [
              "array([ 0,  2,  4,  6,  8, 10, 12, 14, 16, 18])"
            ]
          },
          "metadata": {},
          "execution_count": 135
        }
      ]
    },
    {
      "cell_type": "code",
      "source": [
        "x**2"
      ],
      "metadata": {
        "colab": {
          "base_uri": "https://localhost:8080/"
        },
        "id": "PZtf6Oxt41Ke",
        "outputId": "d1dad355-e6f9-44da-e429-b07b5a2b978c"
      },
      "execution_count": null,
      "outputs": [
        {
          "output_type": "execute_result",
          "data": {
            "text/plain": [
              "array([ 0,  1,  4,  9, 16, 25, 36, 49, 64, 81])"
            ]
          },
          "metadata": {},
          "execution_count": 136
        }
      ]
    },
    {
      "cell_type": "code",
      "source": [
        "y = 3 * x + 5"
      ],
      "metadata": {
        "id": "NO18kf-t42Nu"
      },
      "execution_count": null,
      "outputs": []
    },
    {
      "cell_type": "code",
      "source": [
        "x"
      ],
      "metadata": {
        "colab": {
          "base_uri": "https://localhost:8080/"
        },
        "id": "ndOk_ebQ4818",
        "outputId": "fab19160-34b0-4443-8659-d8fee1a7d137"
      },
      "execution_count": null,
      "outputs": [
        {
          "output_type": "execute_result",
          "data": {
            "text/plain": [
              "array([0, 1, 2, 3, 4, 5, 6, 7, 8, 9])"
            ]
          },
          "metadata": {},
          "execution_count": 138
        }
      ]
    },
    {
      "cell_type": "code",
      "source": [
        "y"
      ],
      "metadata": {
        "colab": {
          "base_uri": "https://localhost:8080/"
        },
        "id": "3BzygvmF4-Uc",
        "outputId": "0fa35885-9178-4c2f-e5fa-19992c140bdd"
      },
      "execution_count": null,
      "outputs": [
        {
          "output_type": "execute_result",
          "data": {
            "text/plain": [
              "array([ 5,  8, 11, 14, 17, 20, 23, 26, 29, 32])"
            ]
          },
          "metadata": {},
          "execution_count": 139
        }
      ]
    },
    {
      "cell_type": "code",
      "source": [
        "plt.plot(x, y)"
      ],
      "metadata": {
        "colab": {
          "base_uri": "https://localhost:8080/",
          "height": 282
        },
        "id": "HTeETHVe4-o7",
        "outputId": "2fd36a8e-64b1-49eb-bdfc-90b6d8efa4aa"
      },
      "execution_count": null,
      "outputs": [
        {
          "output_type": "execute_result",
          "data": {
            "text/plain": [
              "[<matplotlib.lines.Line2D at 0x7f782e0e2910>]"
            ]
          },
          "metadata": {},
          "execution_count": 140
        },
        {
          "output_type": "display_data",
          "data": {
            "text/plain": [
              "<Figure size 432x288 with 1 Axes>"
            ],
            "image/png": "[encoded data removed]"
          },
          "metadata": {
            "needs_background": "light"
          }
        }
      ]
    },
    {
      "cell_type": "code",
      "source": [
        "plt.plot(x, y, '.') # Explain all"
      ],
      "metadata": {
        "colab": {
          "base_uri": "https://localhost:8080/",
          "height": 282
        },
        "id": "H4yVMbJw5AeM",
        "outputId": "d8937629-6499-42e3-b29e-14aff336cc1a"
      },
      "execution_count": null,
      "outputs": [
        {
          "output_type": "execute_result",
          "data": {
            "text/plain": [
              "[<matplotlib.lines.Line2D at 0x7f782e19d850>]"
            ]
          },
          "metadata": {},
          "execution_count": 141
        },
        {
          "output_type": "display_data",
          "data": {
            "text/plain": [
              "<Figure size 432x288 with 1 Axes>"
            ],
            "image/png": "[encoded data removed]"
          },
          "metadata": {
            "needs_background": "light"
          }
        }
      ]
    },
    {
      "cell_type": "code",
      "source": [
        "plt.plot(x, y, 'r.') # Explain all"
      ],
      "metadata": {
        "colab": {
          "base_uri": "https://localhost:8080/",
          "height": 282
        },
        "outputId": "613b7d89-0108-484b-f101-f9cf0c5fe818",
        "id": "CrKx9bej6RTs"
      },
      "execution_count": null,
      "outputs": [
        {
          "output_type": "execute_result",
          "data": {
            "text/plain": [
              "[<matplotlib.lines.Line2D at 0x7f782e14c410>]"
            ]
          },
          "metadata": {},
          "execution_count": 142
        },
        {
          "output_type": "display_data",
          "data": {
            "text/plain": [
              "<Figure size 432x288 with 1 Axes>"
            ],
            "image/png": "[encoded data removed]"
          },
          "metadata": {
            "needs_background": "light"
          }
        }
      ]
    },
    {
      "cell_type": "code",
      "source": [
        "x.shape"
      ],
      "metadata": {
        "colab": {
          "base_uri": "https://localhost:8080/"
        },
        "id": "53ABsrjL5dWc",
        "outputId": "c499410d-06e3-4cdb-8c13-3490cc3082df"
      },
      "execution_count": null,
      "outputs": [
        {
          "output_type": "execute_result",
          "data": {
            "text/plain": [
              "(10,)"
            ]
          },
          "metadata": {},
          "execution_count": 143
        }
      ]
    },
    {
      "cell_type": "code",
      "source": [
        "y.shape"
      ],
      "metadata": {
        "colab": {
          "base_uri": "https://localhost:8080/"
        },
        "id": "t8hCsbY96SLs",
        "outputId": "ae2df36a-7176-4c1f-f33c-b1f99dbe0bfb"
      },
      "execution_count": null,
      "outputs": [
        {
          "output_type": "execute_result",
          "data": {
            "text/plain": [
              "(10,)"
            ]
          },
          "metadata": {},
          "execution_count": 144
        }
      ]
    },
    {
      "cell_type": "code",
      "source": [
        "plt.plot(x, y, marker='*', linestyle='dashdot', markerfacecolor='#6A0FAE') # Saucing opportunities with plot arguments"
      ],
      "metadata": {
        "colab": {
          "base_uri": "https://localhost:8080/",
          "height": 282
        },
        "outputId": "fbeb4f13-468c-4e17-8441-8b68a88ca998",
        "id": "7UVkLKM-8ARL"
      },
      "execution_count": null,
      "outputs": [
        {
          "output_type": "execute_result",
          "data": {
            "text/plain": [
              "[<matplotlib.lines.Line2D at 0x7f782dacb3d0>]"
            ]
          },
          "metadata": {},
          "execution_count": 145
        },
        {
          "output_type": "display_data",
          "data": {
            "text/plain": [
              "<Figure size 432x288 with 1 Axes>"
            ],
            "image/png": "[encoded data removed]"
          },
          "metadata": {
            "needs_background": "light"
          }
        }
      ]
    },
    {
      "cell_type": "code",
      "source": [
        "lin = np.linspace(0,5,10)"
      ],
      "metadata": {
        "id": "cyA8-Mak9nX8"
      },
      "execution_count": null,
      "outputs": []
    },
    {
      "cell_type": "code",
      "source": [
        "lin"
      ],
      "metadata": {
        "colab": {
          "base_uri": "https://localhost:8080/"
        },
        "id": "hkwJeo_59t0N",
        "outputId": "151bfa55-d703-49c1-d4a0-93afcc65be06"
      },
      "execution_count": null,
      "outputs": [
        {
          "output_type": "execute_result",
          "data": {
            "text/plain": [
              "array([0.        , 0.55555556, 1.11111111, 1.66666667, 2.22222222,\n",
              "       2.77777778, 3.33333333, 3.88888889, 4.44444444, 5.        ])"
            ]
          },
          "metadata": {},
          "execution_count": 147
        }
      ]
    },
    {
      "cell_type": "code",
      "source": [
        "x = np.linspace(0, 10, 100)"
      ],
      "metadata": {
        "id": "ehxx84yh9vmN"
      },
      "execution_count": null,
      "outputs": []
    },
    {
      "cell_type": "code",
      "source": [
        "y = x**2"
      ],
      "metadata": {
        "id": "8tsZLSy892NN"
      },
      "execution_count": null,
      "outputs": []
    },
    {
      "cell_type": "code",
      "source": [
        "plt.plot(x, y, marker='o', linestyle='None', markerfacecolor='#6A0FAE');\n",
        "plt.title(\"The first graph\");\n",
        "plt.xlabel(\"X\");\n",
        "plt.ylabel(\"Y\", rotation=0);"
      ],
      "metadata": {
        "colab": {
          "base_uri": "https://localhost:8080/",
          "height": 295
        },
        "outputId": "ae952a8e-6e1a-4d66-a4a2-1078e13f56ba",
        "id": "ftDSwG75997g"
      },
      "execution_count": null,
      "outputs": [
        {
          "output_type": "display_data",
          "data": {
            "text/plain": [
              "<Figure size 432x288 with 1 Axes>"
            ],
            "image/png": "[encoded data removed]"
          },
          "metadata": {
            "needs_background": "light"
          }
        }
      ]
    },
    {
      "cell_type": "code",
      "source": [
        "plt.plot(x, y, marker='o', linestyle='None', markerfacecolor='#6A0FAE', label=\"Graph of x squared\");\n",
        "plt.title(\"The first graph\");\n",
        "plt.xlabel(\"X\");\n",
        "plt.ylabel(\"Y\", rotation=0);\n",
        "plt.legend();"
      ],
      "metadata": {
        "colab": {
          "base_uri": "https://localhost:8080/",
          "height": 295
        },
        "outputId": "7d258a76-3914-4855-82c2-bbbc9d8f726f",
        "id": "zdTqLg-qBMR8"
      },
      "execution_count": null,
      "outputs": [
        {
          "output_type": "display_data",
          "data": {
            "text/plain": [
              "<Figure size 432x288 with 1 Axes>"
            ],
            "image/png": "[encoded data removed]"
          },
          "metadata": {
            "needs_background": "light"
          }
        }
      ]
    },
    {
      "cell_type": "code",
      "source": [
        "x = np.linspace(0, 2, 100)\n",
        "\n",
        "plt.plot(x, x,    'r--', label=\"linear\");\n",
        "plt.plot(x, x**2, 'bs' , label=\"squared\");\n",
        "plt.plot(x, x**3, 'g^' , label=\"cubed\");\n",
        "plt.legend();"
      ],
      "metadata": {
        "colab": {
          "base_uri": "https://localhost:8080/",
          "height": 265
        },
        "id": "UbvKzQDRCDv6",
        "outputId": "572edc33-af67-4cef-d288-d39f2e9d702a"
      },
      "execution_count": null,
      "outputs": [
        {
          "output_type": "display_data",
          "data": {
            "text/plain": [
              "<Figure size 432x288 with 1 Axes>"
            ],
            "image/png": "[encoded data removed]"
          },
          "metadata": {
            "needs_background": "light"
          }
        }
      ]
    },
    {
      "cell_type": "markdown",
      "source": [
        "## Lists"
      ],
      "metadata": {
        "id": "47euIbn2E-0s"
      }
    },
    {
      "cell_type": "code",
      "source": [
        "names = ['eren', 'iskender'] # This is a list\n",
        "names"
      ],
      "metadata": {
        "colab": {
          "base_uri": "https://localhost:8080/"
        },
        "id": "NDdqVg7zFAMa",
        "outputId": "f8b0d8fc-0963-4ce3-e02a-6ab92a0ed362"
      },
      "execution_count": null,
      "outputs": [
        {
          "output_type": "execute_result",
          "data": {
            "text/plain": [
              "['eren', 'iskender']"
            ]
          },
          "metadata": {},
          "execution_count": 153
        }
      ]
    },
    {
      "cell_type": "code",
      "source": [
        "names = ('cat', 'dog', 'bird') # This is a tuple, immutable"
      ],
      "metadata": {
        "id": "AZVOs-kXIJgK"
      },
      "execution_count": null,
      "outputs": []
    },
    {
      "cell_type": "code",
      "source": [
        "tuple(print(name) for name in names) # Comprehension to iterate through tuple values\n",
        "# Notebook returns empty unpacked tuple for names\n",
        "names # Unless you ask for it again"
      ],
      "metadata": {
        "colab": {
          "base_uri": "https://localhost:8080/"
        },
        "id": "_usAtE5JFGoK",
        "outputId": "fd125ad6-93c8-4f07-fa3c-a26c422d2007"
      },
      "execution_count": null,
      "outputs": [
        {
          "output_type": "stream",
          "name": "stdout",
          "text": [
            "cat\n",
            "dog\n",
            "bird\n"
          ]
        },
        {
          "output_type": "execute_result",
          "data": {
            "text/plain": [
              "('cat', 'dog', 'bird')"
            ]
          },
          "metadata": {},
          "execution_count": 155
        }
      ]
    },
    {
      "cell_type": "code",
      "source": [
        "values = np.array([15, 18, 6])\n",
        "values.shape"
      ],
      "metadata": {
        "colab": {
          "base_uri": "https://localhost:8080/"
        },
        "id": "SIaw4HCXFbQ6",
        "outputId": "fbb1abba-29f0-4db7-a4f4-e7e7ae20a6c8"
      },
      "execution_count": null,
      "outputs": [
        {
          "output_type": "execute_result",
          "data": {
            "text/plain": [
              "(3,)"
            ]
          },
          "metadata": {},
          "execution_count": 156
        }
      ]
    },
    {
      "cell_type": "code",
      "source": [
        "plt.figure(1, figsize=(10, 10));\n",
        "\n",
        "plt.subplot(1,3,1);\n",
        "plt.bar(names, values);\n",
        "\n",
        "plt.subplot(1,3,2);\n",
        "plt.scatter(names, values);\n",
        "\n",
        "plt.subplot(1,3,3);\n",
        "plt.plot(names, values);"
      ],
      "metadata": {
        "colab": {
          "base_uri": "https://localhost:8080/",
          "height": 592
        },
        "id": "tpYAYovFFh4i",
        "outputId": "7ce3e121-7b24-4ab3-d9c6-b00118cbfae2"
      },
      "execution_count": null,
      "outputs": [
        {
          "output_type": "display_data",
          "data": {
            "text/plain": [
              "<Figure size 720x720 with 3 Axes>"
            ],
            "image/png": "[encoded data removed]"
          },
          "metadata": {
            "needs_background": "light"
          }
        }
      ]
    },
    {
      "cell_type": "code",
      "source": [
        "plt.figure(1, figsize=(3, 3));\n",
        "\n",
        "plt.subplot(2,2,1);\n",
        "plt.bar(names, values);\n",
        "\n",
        "plt.subplot(2,2,2);\n",
        "plt.scatter(names, values);\n",
        "\n",
        "plt.subplot(2,2,3);\n",
        "plt.plot(names, values);\n",
        "\n",
        "plt.subplot(2,2,4);\n",
        "plt.plot(names, values);"
      ],
      "metadata": {
        "colab": {
          "base_uri": "https://localhost:8080/",
          "height": 211
        },
        "outputId": "44d29870-41dd-4182-b712-29dbd5ebcf0e",
        "id": "lEEH2V07G5WS"
      },
      "execution_count": null,
      "outputs": [
        {
          "output_type": "display_data",
          "data": {
            "text/plain": [
              "<Figure size 216x216 with 4 Axes>"
            ],
            "image/png": "[encoded data removed]"
          },
          "metadata": {
            "needs_background": "light"
          }
        }
      ]
    },
    {
      "cell_type": "markdown",
      "source": [
        "## Math Typesetting"
      ],
      "metadata": {
        "id": "1DGQEcrWZDDH"
      }
    },
    {
      "cell_type": "markdown",
      "source": [
        "<img src=\"https://camo.githubusercontent.com/2221547da9b18d64ee60ea2dcf1edbb283c10c15a9fe9e6e6d70576956040c0d/68747470733a2f2f6173736574732e72626c2e6d732f32353538343439392f6f726967696e2e6a7067\" width=500px />"
      ],
      "metadata": {
        "id": "VGEZX7jyZJhK"
      }
    },
    {
      "cell_type": "markdown",
      "source": [
        "$y = mx + b$"
      ],
      "metadata": {
        "id": "jtxI0G01bWYV"
      }
    },
    {
      "cell_type": "markdown",
      "source": [
        "$\\frac{a}{b}$"
      ],
      "metadata": {
        "id": "SCBYbOfvbcC_"
      }
    },
    {
      "cell_type": "markdown",
      "source": [
        "$\\frac{a^b}{a_b}$\n",
        "<!-- Fraction with superscript and subscript -->"
      ],
      "metadata": {
        "id": "gPHaoZuCbj1Q"
      }
    },
    {
      "cell_type": "markdown",
      "source": [
        "$f(x) = \\frac{1}{\\sigma\\sqrt{2\\pi}}e^{-\\frac{1}{2}}(\\frac{x-\\mu}{\\sigma})^2$ <!-- Not sure if I did this right hehe -->"
      ],
      "metadata": {
        "id": "TAr3qDbqcQP-"
      }
    }
  ]
}