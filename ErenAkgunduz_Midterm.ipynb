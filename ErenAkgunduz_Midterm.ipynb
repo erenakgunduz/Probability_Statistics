{
  "nbformat": 4,
  "nbformat_minor": 0,
  "metadata": {
    "colab": {
      "provenance": [],
      "collapsed_sections": [],
      "include_colab_link": true
    },
    "kernelspec": {
      "name": "python3",
      "display_name": "Python 3"
    },
    "language_info": {
      "name": "python"
    }
  },
  "cells": [
    {
      "cell_type": "markdown",
      "metadata": {
        "id": "view-in-github",
        "colab_type": "text"
      },
      "source": [
        "<a href=\"https://colab.research.google.com/github/erenakgunduz/Probability_Statistics/blob/main/ErenAkgunduz_Midterm.ipynb\" target=\"_parent\"><img src=\"https://colab.research.google.com/assets/colab-badge.svg\" alt=\"Open In Colab\"/></a>"
      ]
    },
    {
      "cell_type": "markdown",
      "source": [
        "# STA 2023 Midterm Project\n",
        "## Eren Akgunduz\n",
        "\n",
        "Directions:\n",
        "\n",
        "*   Use any and all resources available to you\n",
        "*   Comment and explain the code\n",
        "*   Answer the questions to the best of your abilities\n",
        "*   There are no points for pain: ask for help\n",
        "\n",
        "Save this notebook to your GitHub and submit the link."
      ],
      "metadata": {
        "id": "WyqM99KnfwFM"
      }
    },
    {
      "cell_type": "code",
      "source": [
        "import numpy as np\n",
        "import matplotlib.pyplot as plt"
      ],
      "metadata": {
        "id": "ZE7xzRUigBYy"
      },
      "execution_count": 1,
      "outputs": []
    },
    {
      "cell_type": "markdown",
      "source": [
        "## Part 1: Getting your data\n",
        "\n",
        "Create a google form to input your data.\n",
        "Follow the same method as [Lab 5](https://colab.research.google.com/drive/1zYvyhrz2wVnJXlZqj_PpxOxplfS3LN9Y?usp=sharing)."
      ],
      "metadata": {
        "id": "tkn5UxLMg4GS"
      }
    },
    {
      "cell_type": "markdown",
      "source": [
        "[My form link](https://docs.google.com/forms/d/e/1FAIpQLSfGnbHl5kwjE8DeS8al4e58LIa7eAtG8E2ApzATO-Z7Ky5GxQ/viewform?usp=sf_link)"
      ],
      "metadata": {
        "id": "63Hu7MGFVFEM"
      }
    },
    {
      "cell_type": "code",
      "source": [
        "import pandas as pd\n",
        "def get_database(url): # This function loads the google spreadsheet\n",
        "    url_head = \"https://docs.google.com/spreadsheets/d/\"\n",
        "    url_foot = \"/gviz/tq?tqx=out:csv&sheet=\"\n",
        "    url_body = url.split('/')[5]\n",
        "    sheet_name = \"1\"\n",
        "    url_csv = url_head + url_body + url_foot + sheet_name\n",
        "    df = pd.read_csv(url_csv, sep=',', skiprows=0)\n",
        "    return df"
      ],
      "metadata": {
        "id": "B0XQVmQIgdrp"
      },
      "execution_count": 2,
      "outputs": []
    },
    {
      "cell_type": "markdown",
      "source": [
        "Put your form url here:"
      ],
      "metadata": {
        "id": "e3G1Q_8rjlLI"
      }
    },
    {
      "cell_type": "code",
      "source": [
        "url = \"https://docs.google.com/spreadsheets/d/1pZarcxluqZ_HH8NaGR1MsUClQEzv3CHgtVy7esK4HCA/edit?usp=sharing\""
      ],
      "metadata": {
        "id": "PfAztwghjql2"
      },
      "execution_count": 3,
      "outputs": []
    },
    {
      "cell_type": "code",
      "source": [
        "data = get_database(url)"
      ],
      "metadata": {
        "id": "_SA4UhnqjyhY"
      },
      "execution_count": 4,
      "outputs": []
    },
    {
      "cell_type": "code",
      "source": [
        "data = np.array(data)  # now our data is in a format that numpy understands (all inside an array)\n",
        "print(data, data.shape)  # Misha added the last one to see how much it would improve the fit"
      ],
      "metadata": {
        "colab": {
          "base_uri": "https://localhost:8080/"
        },
        "id": "2IKYskO2THqD",
        "outputId": "95643537-d28d-4a66-bf93-e52f9db34fa2"
      },
      "execution_count": 5,
      "outputs": [
        {
          "output_type": "stream",
          "name": "stdout",
          "text": [
            "[['10/20/2022 7:43:16' 'Shaving mug' 32.0 10.15]\n",
            " ['10/20/2022 7:43:49' 'Candle lid' 30.0 9.7]\n",
            " ['10/20/2022 7:44:15' 'Coffee bean container lid' 50.8 16.4]\n",
            " ['10/20/2022 14:35:00' '3decimal' 3.141 1.0]] (4, 4)\n"
          ]
        }
      ]
    },
    {
      "cell_type": "code",
      "source": [
        "circumferences = data[:,2]  # slice in a way that gives me all (wildcard) in the first dimension (each entry), but only the data with index 2 (the circumferences)\n",
        "diameters = data[:,3]  # same but now for index 3 (diameters)\n",
        "print(circumferences, diameters)  # proving it worked the way we want"
      ],
      "metadata": {
        "id": "HwjOm5sgj2JA",
        "colab": {
          "base_uri": "https://localhost:8080/"
        },
        "outputId": "4c769097-134e-45f9-b92a-6c176d686bf1"
      },
      "execution_count": 6,
      "outputs": [
        {
          "output_type": "stream",
          "name": "stdout",
          "text": [
            "[32.0 30.0 50.8 3.141] [10.15 9.7 16.4 1.0]\n"
          ]
        }
      ]
    },
    {
      "cell_type": "markdown",
      "source": [
        "Plot your data points"
      ],
      "metadata": {
        "id": "INpIcEh1mUKn"
      }
    },
    {
      "cell_type": "code",
      "source": [
        "plt.title(\"Circle Diameter vs Circumference\")\n",
        "\n",
        "plt.xlabel(\"Diameter (cm)\")\n",
        "plt.ylabel(\"Circumference (cm)\")\n",
        "\n",
        "plt.plot(diameters, circumferences, 'm.'); # circumferences (y) as a function of diameters (x), magenta dots/points "
      ],
      "metadata": {
        "id": "uoX4t7tIj8id",
        "colab": {
          "base_uri": "https://localhost:8080/",
          "height": 295
        },
        "outputId": "15760d44-1635-4ff7-8d04-1dcb01adcc9b"
      },
      "execution_count": 7,
      "outputs": [
        {
          "output_type": "display_data",
          "data": {
            "text/plain": [
              "<Figure size 432x288 with 1 Axes>"
            ],
            "image/png": "[encoded data removed]"
          },
          "metadata": {
            "needs_background": "light"
          }
        }
      ]
    },
    {
      "cell_type": "markdown",
      "source": [
        "## Part 2: Linear Fit\n",
        "\n",
        "Follow the steps in the [Linear Fit notebook]() to run a linear fit on your data."
      ],
      "metadata": {
        "id": "IhT_tn8ym8N8"
      }
    },
    {
      "cell_type": "code",
      "source": [
        "best_loss = 100000000\n",
        "# Adjusting this can drastically change the run time due to this algorithm's complexity (O(n**2)), and yield interesting results\n",
        "n = 1000  # The number of samples for np.linspace(), but it also represents the n in the big O notation\n",
        "# For example, 5 * 5 = just 25 total iterations, takes no time at all, 1000**2 = a MILLION attempts, takes some waiting even here on Google's hardware\n",
        "\n",
        "best_m = None\n",
        "best_b = None\n",
        "\n",
        "for m_guess in np.linspace(0, 20, n):  # level of iteration for guessing the slope (m)\n",
        "    for b_guess in np.linspace(0, 20, n):  # for each guess of the slope, also go through guesses of the y-intercept (b)\n",
        "        # it can seem pretty brute-force, but it does a great job in the end\n",
        "        y_guess = m_guess * diameters + b_guess  # putting it all together -- this actually produces the y-estimate points & plot\n",
        "\n",
        "        loss = np.sum((y_guess - circumferences)**2)  # how far off the mark we are\n",
        "\n",
        "        if loss < best_loss:  # lower loss is better, so if a certain guess is the best one yet then update all the \"bests\"\n",
        "            \n",
        "            best_loss = loss\n",
        "            best_m = m_guess\n",
        "            best_b = b_guess\n"
      ],
      "metadata": {
        "id": "KZn5uJ31nk4X"
      },
      "execution_count": 8,
      "outputs": []
    },
    {
      "cell_type": "markdown",
      "source": [
        "Plot the line of best fit:\n",
        "\n",
        "Use blue dots for the collected data and a red line for the estimate."
      ],
      "metadata": {
        "id": "I0KofkS9p7hu"
      }
    },
    {
      "cell_type": "code",
      "source": [
        "plt.title('Linear Fit of Circles')\n",
        "\n",
        "plt.xlabel('Diameter (cm)')\n",
        "plt.ylabel('Circumference (cm)')\n",
        "\n",
        "# Plot the collected data\n",
        "plt.plot(diameters, circumferences, '.', label='Observations')  # plot the points, remembering our x-axis (circumferences)\n",
        "\n",
        "y_estimate = best_m * diameters + best_b  # the line of best fit, which uses the best m and b the algorithm was able to find\n",
        "\n",
        "# Plot the line of best fit\n",
        "plt.plot(diameters, y_estimate, label=f'Estimate: $y = {round(best_m, 4)} x + {round(best_b, 4)}$')  # rounding so the label doesn't take up the whole plot\n",
        "\n",
        "plt.legend();"
      ],
      "metadata": {
        "id": "xe8G9X7DqACm",
        "colab": {
          "base_uri": "https://localhost:8080/",
          "height": 295
        },
        "outputId": "3d965f01-a7fb-4dce-dfa0-0ddeec5d4b81"
      },
      "execution_count": 9,
      "outputs": [
        {
          "output_type": "display_data",
          "data": {
            "text/plain": [
              "<Figure size 432x288 with 1 Axes>"
            ],
            "image/png": "[encoded data removed]"
          },
          "metadata": {
            "needs_background": "light"
          }
        }
      ]
    },
    {
      "cell_type": "markdown",
      "source": [
        "The estimated relationship is:\n",
        "\n",
        "$C = 3.10D + 0.08$"
      ],
      "metadata": {
        "id": "4zCAPG3upXN9"
      }
    },
    {
      "cell_type": "markdown",
      "source": [
        "## Part 3: Interpretation\n",
        "\n",
        "Answer the questions in text cells"
      ],
      "metadata": {
        "id": "7FBlUtdwt_hd"
      }
    },
    {
      "cell_type": "markdown",
      "source": [
        "#### Question 1:\n",
        "\n",
        "What do $m$ and $b$ represent in these equations?"
      ],
      "metadata": {
        "id": "9xIvwJhOuGDh"
      }
    },
    {
      "cell_type": "markdown",
      "source": [
        "In these equations, $m$ represents the slope of the line of best fit — or, in other words, the ratio by which $x$ and $y$ are related — and $b$ represents the y-intercept (the starting output when $x$ = 0)"
      ],
      "metadata": {
        "id": "OC_Ja53Yugfn"
      }
    },
    {
      "cell_type": "markdown",
      "source": [
        "#### Question 2:\n",
        "\n",
        "Guess what the correct values $m$ and $b$ should be."
      ],
      "metadata": {
        "id": "_7xl4z8kubLo"
      }
    },
    {
      "cell_type": "markdown",
      "source": [
        "If we're to assume that what we've measured are *actually* perfect circles, and not just close enough for our perception as humans (in reality they could be/probably are slightly oblong/flawed), then *m* would have to be the exact value of ${\\pi}$, because $C = 2{\\pi}r$ for an ideal circle, which is the same as $C = {\\pi}d$ (exactly what we've been dealing with). Since that would be enough to describe the relationship, $b$ could just be 0"
      ],
      "metadata": {
        "id": "Te_52DvOuhZ-"
      }
    },
    {
      "cell_type": "markdown",
      "source": [
        "#### Question 3:\n",
        "\n",
        "Does it make sense to include $b$ in the parameters?"
      ],
      "metadata": {
        "id": "2yrRt2wMubSC"
      }
    },
    {
      "cell_type": "markdown",
      "source": [
        "Assuming that this question is asking if it makes sense to include $b$ in the plt.plot() parameters, it does **not**, because we already account for $b$ when we define y_estimate (which represents the best line of fit we could come up with thus far), which is what we actually use as an argument"
      ],
      "metadata": {
        "id": "F0gbHr8_uiWi"
      }
    },
    {
      "cell_type": "markdown",
      "source": [
        "## Bonus:\n",
        "\n",
        "These problems are extra credit. You may use any resources, but be sure to explain your code."
      ],
      "metadata": {
        "id": "_3LN79rPujMz"
      }
    },
    {
      "cell_type": "markdown",
      "source": [
        "#### Bonus 1: Plot the squared errors from your line of best fit"
      ],
      "metadata": {
        "id": "wk0Ox4nqvFcT"
      }
    },
    {
      "cell_type": "code",
      "source": [
        "plt.title(\"Fit Errors\")\n",
        "\n",
        "plt.xlabel(\"Diameter\")\n",
        "plt.ylabel(\"Squared Error\")\n",
        "\n",
        "# Using comprehension syntax - the circumferences (actual points) and y-estimate (best fit points) already correspond\n",
        "# So, I want to use the index to get the circumference we need and use the item for the y-estimate, that looks like this:\n",
        "squared_errors = np.array([(circumferences[i] - y)**2 for i, y in enumerate(y_estimate)])\n",
        "\n",
        "plt.plot(diameters, squared_errors, 'b.', label = \"Errors\")\n",
        "\n",
        "plt.legend();"
      ],
      "metadata": {
        "id": "O8IQn-B_vXAN",
        "colab": {
          "base_uri": "https://localhost:8080/",
          "height": 295
        },
        "outputId": "5961c051-193e-4e1a-ec26-447d3fb53c66"
      },
      "execution_count": 10,
      "outputs": [
        {
          "output_type": "display_data",
          "data": {
            "text/plain": [
              "<Figure size 432x288 with 1 Axes>"
            ],
            "image/png": "[encoded data removed]"
          },
          "metadata": {
            "needs_background": "light"
          }
        }
      ]
    },
    {
      "cell_type": "markdown",
      "source": [
        "#### Bonus 2: Plot the errors as a histogram"
      ],
      "metadata": {
        "id": "ojVobjtBwK9o"
      }
    },
    {
      "cell_type": "code",
      "source": [
        "plt.title(\"Errors\")\n",
        "plt.hist(squared_errors)  # matplotlib's histogram method, displays frequency of data points' occurence (density, in this case of errors)\n",
        "plt.show()"
      ],
      "metadata": {
        "id": "WJkR3s9kwujU",
        "colab": {
          "base_uri": "https://localhost:8080/",
          "height": 281
        },
        "outputId": "dc7a6b67-aa69-4c84-cdc3-b38e1cceed1c"
      },
      "execution_count": 11,
      "outputs": [
        {
          "output_type": "display_data",
          "data": {
            "text/plain": [
              "<Figure size 432x288 with 1 Axes>"
            ],
            "image/png": "[encoded data removed]"
          },
          "metadata": {
            "needs_background": "light"
          }
        }
      ]
    },
    {
      "cell_type": "markdown",
      "source": [
        "What distribution does this histogram look like?"
      ],
      "metadata": {
        "id": "k9nm1qADyFiA"
      }
    },
    {
      "cell_type": "markdown",
      "source": [
        "Since we are looking at a histogram of errors (looking at all the densities can give us an idea of the probability density function at play), we would eventually expect to see a normal distribution — but I don't have too much data so it doesn't look like a normal distribution at the moment"
      ],
      "metadata": {
        "id": "r2Vo3k0xyKiK"
      }
    },
    {
      "cell_type": "markdown",
      "source": [
        "#### Bonus 3: Find the circle with the largest error. \n",
        "Hint: use np.max"
      ],
      "metadata": {
        "id": "qfDuImTvrF5V"
      }
    },
    {
      "cell_type": "code",
      "source": [
        "largest_error = np.max(squared_errors)  # as simple as that, but I'll still put this to the test"
      ],
      "metadata": {
        "id": "k7ShpKK6vWrH"
      },
      "execution_count": 12,
      "outputs": []
    },
    {
      "cell_type": "markdown",
      "source": [
        "#### Bonus 4: Remove the circles with the 2 largest errors and run the fit again.\n"
      ],
      "metadata": {
        "id": "oQCq4D4uwZ7I"
      }
    },
    {
      "cell_type": "code",
      "source": [
        "print(diameters, circumferences, y_estimate, squared_errors)  # what we start with\n",
        "\n",
        "def remove_two_largest_errors(array):\n",
        "    sort = np.argsort(squared_errors)  # the argsort() method allows us to set a sorting order and stick to it, here we base the sort on the squared errors\n",
        "    print(squared_errors[~sort][0] == largest_error)  # tilde flips the order of the sort, so now the first item (index 0) should have the largest error, confirming it\n",
        "    new_array = array[~sort]  # apply this reverse sort to the array that's passed in\n",
        "    new_array = np.delete(new_array, np.s_[0:2])  # numpy delete with a slice of just the first two items (which have the largest errors)\n",
        "    return new_array\n",
        "\n",
        "diameters = remove_two_largest_errors(diameters)\n",
        "circumferences = remove_two_largest_errors(circumferences)\n",
        "\n",
        "print(diameters, circumferences)  # it works! :)"
      ],
      "metadata": {
        "id": "EjddA54wwKPY",
        "colab": {
          "base_uri": "https://localhost:8080/"
        },
        "outputId": "1b1e4ec0-9ad7-48b2-f881-741e989e8152"
      },
      "execution_count": 13,
      "outputs": [
        {
          "output_type": "stream",
          "name": "stdout",
          "text": [
            "[10.15 9.7 16.4 1.0] [32.0 30.0 50.8 3.141] [31.576576576576574 30.180180180180177 50.97097097097096 3.183183183183183] [0.1792874  0.0324649  0.02923107 0.00177942]\n",
            "True\n",
            "True\n",
            "[16.4 1.0] [50.8 3.141]\n"
          ]
        }
      ]
    },
    {
      "cell_type": "code",
      "source": [
        "best_loss = 100000000\n",
        "n = 1000\n",
        "\n",
        "best_m = None\n",
        "best_b = None\n",
        "\n",
        "for m_guess in np.linspace(0, 20, n):\n",
        "    for b_guess in np.linspace(0, 20, n):\n",
        "\n",
        "        y_guess = m_guess * diameters + b_guess\n",
        "\n",
        "        loss = np.sum((y_guess - circumferences)**2)\n",
        "\n",
        "        if loss < best_loss:\n",
        "\n",
        "            best_loss = loss\n",
        "            best_m = m_guess\n",
        "            best_b = b_guess"
      ],
      "metadata": {
        "id": "znRRP-dsMp0t"
      },
      "execution_count": 14,
      "outputs": []
    },
    {
      "cell_type": "code",
      "source": [
        "plt.title('Linear Fit of Circles')\n",
        "\n",
        "plt.xlabel('Diameter (cm)')\n",
        "plt.ylabel('Circumference (cm)')\n",
        "\n",
        "# Plot the collected data\n",
        "plt.plot(diameters, circumferences, '.', label='Observations')\n",
        "\n",
        "y_estimate = best_m * diameters + best_b\n",
        "\n",
        "# Plot the line of best fit\n",
        "plt.plot(diameters, y_estimate, label=f'Estimate: $y = {round(best_m, 4)} x + {round(best_b, 4)}$')\n",
        "\n",
        "plt.legend();"
      ],
      "metadata": {
        "colab": {
          "base_uri": "https://localhost:8080/",
          "height": 295
        },
        "id": "FJ2yc9eKMgF6",
        "outputId": "358f0fd0-238c-40b1-90ab-212c6cdd0d8c"
      },
      "execution_count": 15,
      "outputs": [
        {
          "output_type": "display_data",
          "data": {
            "text/plain": [
              "<Figure size 432x288 with 1 Axes>"
            ],
            "image/png": "[encoded data removed]"
          },
          "metadata": {
            "needs_background": "light"
          }
        }
      ]
    },
    {
      "cell_type": "code",
      "source": [
        "plt.title(\"Fit Errors\")\n",
        "\n",
        "plt.xlabel(\"Diameter\")\n",
        "plt.ylabel(\"Squared Error\")\n",
        "\n",
        "squared_errors = np.array([(circumferences[i] - y)**2 for i, y in enumerate(y_estimate)])\n",
        "\n",
        "plt.plot(diameters, squared_errors, 'b.', label = \"Errors\")\n",
        "\n",
        "print(diameters, squared_errors)  # let's also see the exact values of the points we're looking at\n",
        "plt.legend();"
      ],
      "metadata": {
        "colab": {
          "base_uri": "https://localhost:8080/",
          "height": 313
        },
        "id": "_dVzPUPxQyVG",
        "outputId": "76a76413-26f9-44bb-d16e-be3c85b7d239"
      },
      "execution_count": 16,
      "outputs": [
        {
          "output_type": "stream",
          "name": "stdout",
          "text": [
            "[16.4 1.0] [0.00826115 0.00143617]\n"
          ]
        },
        {
          "output_type": "display_data",
          "data": {
            "text/plain": [
              "<Figure size 432x288 with 1 Axes>"
            ],
            "image/png": "[encoded data removed]"
          },
          "metadata": {
            "needs_background": "light"
          }
        }
      ]
    },
    {
      "cell_type": "markdown",
      "source": [
        "What is the difference in your error?"
      ],
      "metadata": {
        "id": "V2jyayR-yOvF"
      }
    },
    {
      "cell_type": "code",
      "source": [
        "0.02923107 - 0.00826115"
      ],
      "metadata": {
        "colab": {
          "base_uri": "https://localhost:8080/"
        },
        "id": "J1PD6GRCYVvb",
        "outputId": "63d99ee7-4fe0-42b9-9dea-c59485b33a21"
      },
      "execution_count": 17,
      "outputs": [
        {
          "output_type": "execute_result",
          "data": {
            "text/plain": [
              "0.020969920000000003"
            ]
          },
          "metadata": {},
          "execution_count": 17
        }
      ]
    },
    {
      "cell_type": "code",
      "source": [
        "0.00177942 - 0.00143617"
      ],
      "metadata": {
        "colab": {
          "base_uri": "https://localhost:8080/"
        },
        "id": "6Z_kONZdYYaK",
        "outputId": "07e9ca95-81b8-4684-8ca5-4872a3fb9198"
      },
      "execution_count": 18,
      "outputs": [
        {
          "output_type": "execute_result",
          "data": {
            "text/plain": [
              "0.00034325"
            ]
          },
          "metadata": {},
          "execution_count": 18
        }
      ]
    },
    {
      "cell_type": "markdown",
      "source": [
        "#### Bonus 5: Find and explain a better method of fitting this data"
      ],
      "metadata": {
        "id": "1y-okVy_w22o"
      }
    },
    {
      "cell_type": "code",
      "source": [
        "circumferences = np.array(data[:,2], dtype=float)  # the reason I do this is to keep the data type consistently float\n",
        "diameters = np.array(data[:,3], dtype=float)  # if I don't do this, the next step will throw an error"
      ],
      "metadata": {
        "id": "MTq2_nCCSnE2"
      },
      "execution_count": 19,
      "outputs": []
    },
    {
      "cell_type": "markdown",
      "source": [
        "[Followed these docs](https://numpy.org/doc/stable/reference/generated/numpy.linalg.lstsq.html)"
      ],
      "metadata": {
        "id": "mzFqkDPpj1rG"
      }
    },
    {
      "cell_type": "code",
      "source": [
        "plt.title('Linear Fit of Circles')\n",
        "\n",
        "plt.xlabel('Diameter (cm)')\n",
        "plt.ylabel('Circumference (cm)')\n",
        "\n",
        "# Plot the collected data\n",
        "plt.plot(diameters, circumferences, '.', label='Observations')\n",
        "\n",
        "# Here's numpy's very own method for finding line of best fit: linalg.lstsq()\n",
        "# neat! because numpy is generally quite fast (unlike our method above) and trustable, can't really go wrong\n",
        "A = np.vstack([diameters, np.ones(len(diameters))]).T  # by doing this we're just rewriting the line equation slightly\n",
        "best_m, best_b = np.linalg.lstsq(A, circumferences, rcond=None)[0]  # this way, the method can do its magic\n",
        "y_estimate = best_m * diameters + best_b  # if you noticed, this line and everything below has stayed exactly the same\n",
        "\n",
        "# Plot the line of best fit\n",
        "plt.plot(diameters, y_estimate, label=f'Estimate: $y = {round(best_m, 4)} x + {round(best_b, 4)}$')\n",
        "\n",
        "plt.legend();"
      ],
      "metadata": {
        "id": "sfOiajQCxH_7",
        "colab": {
          "base_uri": "https://localhost:8080/",
          "height": 295
        },
        "outputId": "82e09464-391e-48bf-e783-fa95adeb5d66"
      },
      "execution_count": 20,
      "outputs": [
        {
          "output_type": "display_data",
          "data": {
            "text/plain": [
              "<Figure size 432x288 with 1 Axes>"
            ],
            "image/png": "[encoded data removed]"
          },
          "metadata": {
            "needs_background": "light"
          }
        }
      ]
    }
  ]
}